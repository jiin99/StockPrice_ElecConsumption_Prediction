{
 "cells": [
  {
   "cell_type": "code",
   "execution_count": 2,
   "id": "560ed5c1",
   "metadata": {},
   "outputs": [],
   "source": [
    "import os\n",
    "import numpy as np\n",
    "import pandas as pd\n",
    "import matplotlib.pyplot as plt\n",
    "import utils.utils as utils"
   ]
  },
  {
   "cell_type": "code",
   "execution_count": null,
   "id": "d80af6d3",
   "metadata": {},
   "outputs": [],
   "source": [
    "data = 'AMD'\n",
    "save_path = os.path.join(f'./sorted/linformer-type3-nodistil20',f'{data}.csv')\n",
    "train_log = utils.Logger(os.path.join(save_path,'train.log'))\n",
    "test_log = utils.Logger(os.path.join(save_path, 'test.log'))\n",
    "train_log = train_log.read()\n",
    "test_log = test_log.read()\n",
    "epoch, train_loss, train_time = zip(*train_log)\n",
    "epoch, test_loss, test_time = zip(*test_log)\n",
    "\n",
    "plt.plot(epoch, train_loss, '-b', label='train')\n",
    "plt.plot(epoch, test_loss, '-r', label='test')\n",
    "plt.xlabel('Epoch')\n",
    "plt.ylabel('Loss')\n",
    "plt.grid()\n",
    "plt.legend(loc='upper right')\n",
    "plt.title(f'Loss: {test_loss[-1]}')\n",
    "plt.savefig(os.path.join(save_path, 'Loss.png'))\n",
    "plt.close()\n",
    "\n",
    "df = pd.DataFrame([round(np.mean(train_time),5),round(np.mean(test_time),5)]).T\n",
    "df.columns = ['train_time','test_time']\n",
    "df.to_csv(f'{save_path}/time_complex.csv')\n",
    "\n"
   ]
  },
  {
   "cell_type": "code",
   "execution_count": 8,
   "id": "6ec42613",
   "metadata": {},
   "outputs": [
    {
     "data": {
      "text/plain": [
       "0.14274"
      ]
     },
     "execution_count": 8,
     "metadata": {},
     "output_type": "execute_result"
    }
   ],
   "source": [
    "round(np.mean(train_time),5)"
   ]
  },
  {
   "cell_type": "code",
   "execution_count": null,
   "id": "f2bef148",
   "metadata": {},
   "outputs": [],
   "source": [
    "for data in ['e_DOM', 'AMD']:\n",
    "    save_path = os.path.join(f'./sorted/linformer-type3-nodistil100_key_shared',f'{data}.csv')\n",
    "    train_log = utils.Logger(os.path.join(save_path,'train.log'))\n",
    "    test_log = utils.Logger(os.path.join(save_path, 'test.log'))\n",
    "    train_log = train_log.read()\n",
    "    test_log = test_log.read()\n",
    "    epoch, train_loss, train_time = zip(*train_log)\n",
    "    epoch, test_loss, test_time = zip(*test_log)"
   ]
  }
 ],
 "metadata": {
  "environment": {
   "name": "pytorch-gpu.1-8.m69",
   "type": "gcloud",
   "uri": "gcr.io/deeplearning-platform-release/pytorch-gpu.1-8:m69"
  },
  "kernelspec": {
   "display_name": "Python 3",
   "language": "python",
   "name": "python3"
  },
  "language_info": {
   "codemirror_mode": {
    "name": "ipython",
    "version": 3
   },
   "file_extension": ".py",
   "mimetype": "text/x-python",
   "name": "python",
   "nbconvert_exporter": "python",
   "pygments_lexer": "ipython3",
   "version": "3.7.10"
  }
 },
 "nbformat": 4,
 "nbformat_minor": 5
}
